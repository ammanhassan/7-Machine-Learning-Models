{
 "cells": [
  {
   "cell_type": "code",
   "execution_count": null,
   "metadata": {},
   "outputs": [],
   "source": []
  },
  {
   "cell_type": "markdown",
   "metadata": {},
   "source": [
    "# **Machine learning k 7 important models/algorithms or un ki description ye rahi ap ki computer screen per:**\n",
    "\n",
    "## 1. **Linear Regression**\n",
    "Is mode main ap aik linear equation k sath 2 numeric paramters ka relationship dekhtay hyn\n",
    "## 2. **Logistics Regression**\n",
    "Is model main ap aik logistic function ko use kar k binary dependet variable ko classify kartay hyn (e.g: Sigmoid function)\n",
    "## 3. **Decision Tree**\n",
    "Is main ap trees bnatay hyn decision ki base per or data yani k roots se leaves yani k output predict kartay hyn conditions laganay k baad\n",
    "## 4. **Support vector machine**\n",
    "Is model main ap aik imaginary line ya plane lagatay hyn jo 2 ya 2 se zada data ko separate kar k classify karnay main help karta hy\n",
    "## 5. **Naive Bayes**\n",
    "Is model main ap Bayes' Theorem ko use kartay hyn jo ye assume karta hy k sara data independent hy, is liay isay naive b kehtay hyn (naive means sada, naive person: Sada loh insan ya Allah log)\n",
    "## 6. **K-means**\n",
    "Is model amin data apni properties ki base per ikatha aik jhund bna leta hy, or jis group/jhund main data ikatha ho usay cluster kehtay hyn and cluster ki base per phir classification hti hy. Data k center ko centroid boltay hyn jo is model ki aik khaas baat hy\n",
    "## 7. **K-nearest neighbours**\n",
    "Is model main data apnay qareebi rishtaydaron yani k similar data ko apna naam de deta hy. E.g: Agar aik Pakistani Europe main kisi doosray insan jo Pakistan k kisi b city se ho usay Pakistani soch k yaad rakhay ga, q k Nationality same hy. "
   ]
  }
 ],
 "metadata": {
  "kernelspec": {
   "display_name": "Python 3.10.1 64-bit",
   "language": "python",
   "name": "python3"
  },
  "language_info": {
   "name": "python",
   "version": "3.10.1"
  },
  "orig_nbformat": 4,
  "vscode": {
   "interpreter": {
    "hash": "fb4569285eef3a3450cb62085a5b1e0da4bce0af555edc33dcf29baf3acc1368"
   }
  }
 },
 "nbformat": 4,
 "nbformat_minor": 2
}
